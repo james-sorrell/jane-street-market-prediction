{
 "cells": [
  {
   "cell_type": "code",
   "execution_count": 1,
   "metadata": {},
   "outputs": [
    {
     "data": {
      "text/html": [
       "<div>\n",
       "<style scoped>\n",
       "    .dataframe tbody tr th:only-of-type {\n",
       "        vertical-align: middle;\n",
       "    }\n",
       "\n",
       "    .dataframe tbody tr th {\n",
       "        vertical-align: top;\n",
       "    }\n",
       "\n",
       "    .dataframe thead th {\n",
       "        text-align: right;\n",
       "    }\n",
       "</style>\n",
       "<table border=\"1\" class=\"dataframe\">\n",
       "  <thead>\n",
       "    <tr style=\"text-align: right;\">\n",
       "      <th></th>\n",
       "      <th>Open</th>\n",
       "      <th>High</th>\n",
       "      <th>Low</th>\n",
       "      <th>Close</th>\n",
       "      <th>Adjusted Close</th>\n",
       "      <th>Volume</th>\n",
       "    </tr>\n",
       "    <tr>\n",
       "      <th>Date</th>\n",
       "      <th></th>\n",
       "      <th></th>\n",
       "      <th></th>\n",
       "      <th></th>\n",
       "      <th></th>\n",
       "      <th></th>\n",
       "    </tr>\n",
       "  </thead>\n",
       "  <tbody>\n",
       "    <tr>\n",
       "      <th>1993-01-29</th>\n",
       "      <td>43.96875</td>\n",
       "      <td>43.96875</td>\n",
       "      <td>43.75000</td>\n",
       "      <td>43.93750</td>\n",
       "      <td>26.453930</td>\n",
       "      <td>1003200</td>\n",
       "    </tr>\n",
       "    <tr>\n",
       "      <th>1993-02-01</th>\n",
       "      <td>43.96875</td>\n",
       "      <td>44.25000</td>\n",
       "      <td>43.96875</td>\n",
       "      <td>44.25000</td>\n",
       "      <td>26.642057</td>\n",
       "      <td>480500</td>\n",
       "    </tr>\n",
       "    <tr>\n",
       "      <th>1993-02-02</th>\n",
       "      <td>44.21875</td>\n",
       "      <td>44.37500</td>\n",
       "      <td>44.12500</td>\n",
       "      <td>44.34375</td>\n",
       "      <td>26.698507</td>\n",
       "      <td>201300</td>\n",
       "    </tr>\n",
       "    <tr>\n",
       "      <th>1993-02-03</th>\n",
       "      <td>44.40625</td>\n",
       "      <td>44.84375</td>\n",
       "      <td>44.37500</td>\n",
       "      <td>44.81250</td>\n",
       "      <td>26.980742</td>\n",
       "      <td>529400</td>\n",
       "    </tr>\n",
       "    <tr>\n",
       "      <th>1993-02-04</th>\n",
       "      <td>44.96875</td>\n",
       "      <td>45.09375</td>\n",
       "      <td>44.46875</td>\n",
       "      <td>45.00000</td>\n",
       "      <td>27.093624</td>\n",
       "      <td>531500</td>\n",
       "    </tr>\n",
       "  </tbody>\n",
       "</table>\n",
       "</div>"
      ],
      "text/plain": [
       "                Open      High       Low     Close  Adjusted Close   Volume\n",
       "Date                                                                       \n",
       "1993-01-29  43.96875  43.96875  43.75000  43.93750       26.453930  1003200\n",
       "1993-02-01  43.96875  44.25000  43.96875  44.25000       26.642057   480500\n",
       "1993-02-02  44.21875  44.37500  44.12500  44.34375       26.698507   201300\n",
       "1993-02-03  44.40625  44.84375  44.37500  44.81250       26.980742   529400\n",
       "1993-02-04  44.96875  45.09375  44.46875  45.00000       27.093624   531500"
      ]
     },
     "execution_count": 1,
     "metadata": {},
     "output_type": "execute_result"
    }
   ],
   "source": [
    "# Import necessary libraries\n",
    "import numpy as np\n",
    "import pandas as pd\n",
    "from itertools import combinations\n",
    "import itertools as itt\n",
    "\n",
    "# Read the data from CSV file\n",
    "path = '../data/'\n",
    "data = pd.read_csv('spy_prices.csv', parse_dates=True, sep=';', index_col=[0])\n",
    "data.index = pd.to_datetime(data.index)\n",
    "data = data.dropna()\n",
    "data.head()"
   ]
  },
  {
   "cell_type": "code",
   "execution_count": 2,
   "metadata": {},
   "outputs": [
    {
     "name": "stdout",
     "output_type": "stream",
     "text": [
      "total_number_of_days: 9877 days 00:00:00\n"
     ]
    },
    {
     "data": {
      "text/plain": [
       "<matplotlib.axes._subplots.AxesSubplot at 0x24399e5c850>"
      ]
     },
     "execution_count": 2,
     "metadata": {},
     "output_type": "execute_result"
    },
    {
     "data": {
      "image/png": "[encoded data removed]",
      "text/plain": [
       "<Figure size 432x288 with 1 Axes>"
      ]
     },
     "metadata": {
      "needs_background": "light"
     },
     "output_type": "display_data"
    }
   ],
   "source": [
    "get_ipython().run_line_magic('matplotlib', 'inline')\n",
    "import matplotlib.pyplot as plt\n",
    "print('total_number_of_days:', data.index[-1] - data.index[0]) # pandas time delta\n",
    "np.log(data['Volume']).plot()"
   ]
  },
  {
   "cell_type": "code",
   "execution_count": 3,
   "metadata": {},
   "outputs": [],
   "source": [
    "# Install a pip package in the current Jupyter kernel \n",
    "# import sys # <-- no need to run this if hurst is already installed\n",
    "# !{sys.executable} -m pip install hurst"
   ]
  },
  {
   "cell_type": "code",
   "execution_count": 4,
   "metadata": {
    "scrolled": true
   },
   "outputs": [
    {
     "data": {
      "text/plain": [
       "<matplotlib.axes._subplots.AxesSubplot at 0x24399f64a60>"
      ]
     },
     "execution_count": 4,
     "metadata": {},
     "output_type": "execute_result"
    },
    {
     "data": {
      "image/png": "[encoded data removed]",
      "text/plain": [
       "<Figure size 432x288 with 1 Axes>"
      ]
     },
     "metadata": {
      "needs_background": "light"
     },
     "output_type": "display_data"
    }
   ],
   "source": [
    "# Calculate and plot percentage change\n",
    "data['mom126'] = data['Close'].pct_change(126)\n",
    "data['mom126'].plot()"
   ]
  },
  {
   "cell_type": "code",
   "execution_count": 5,
   "metadata": {},
   "outputs": [
    {
     "data": {
      "text/plain": [
       "1    4710\n",
       "0    2101\n",
       "Name: signal_mh, dtype: int64"
      ]
     },
     "execution_count": 5,
     "metadata": {},
     "output_type": "execute_result"
    }
   ],
   "source": [
    "# creating a trading signal (long only)\n",
    "# rationale: if it's been trending in the last year, and the the momentum is positive, buy SPY\n",
    "# buying signal is all or nothing\n",
    "mask_pos = (data.mom126 >= 0.01) \n",
    "# mask_neg = (data.mom126 <= 0.001) \n",
    "data['signal_mh'] = np.where(mask_pos, 1, 0)\n",
    "#data.loc[mask_neg, 'signal_mh'] = -1\n",
    "data['signal_mh'].value_counts()"
   ]
  },
  {
   "cell_type": "code",
   "execution_count": 6,
   "metadata": {},
   "outputs": [
    {
     "data": {
      "image/png": "[encoded data removed]",
      "text/plain": [
       "<Figure size 432x288 with 1 Axes>"
      ]
     },
     "metadata": {
      "needs_background": "light"
     },
     "output_type": "display_data"
    }
   ],
   "source": [
    "# strategy returns\n",
    "# suppose also you hold a position for one month\n",
    "# distribution seem to be negatively skewed, but with a fat right-tail\n",
    "data['returns'] = data.Close.shift(-21).pct_change(21)\n",
    "data['strategy_returns'] = data['returns'].mul(data.signal_mh)\n",
    "data['strategy_returns'].hist(bins=11) # skewed negatively\n",
    "data = data.dropna()"
   ]
  },
  {
   "cell_type": "code",
   "execution_count": 7,
   "metadata": {},
   "outputs": [
    {
     "data": {
      "text/plain": [
       "<matplotlib.axes._subplots.AxesSubplot at 0x2439b0b95b0>"
      ]
     },
     "execution_count": 7,
     "metadata": {},
     "output_type": "execute_result"
    },
    {
     "data": {
      "image/png": "[encoded data removed]",
      "text/plain": [
       "<Figure size 432x288 with 1 Axes>"
      ]
     },
     "metadata": {
      "needs_background": "light"
     },
     "output_type": "display_data"
    }
   ],
   "source": [
    "data['cumret'] = ((data['strategy_returns'] + 1.).cumprod() - 1)\n",
    "data['cumret'].plot(logy=True)"
   ]
  },
  {
   "cell_type": "code",
   "execution_count": 8,
   "metadata": {},
   "outputs": [
    {
     "name": "stderr",
     "output_type": "stream",
     "text": [
      "D:\\tools\\anaconda\\lib\\site-packages\\pyfolio\\pos.py:26: UserWarning: Module \"zipline.assets\" not found; mutltipliers will not be applied to position notionals.\n",
      "  warnings.warn(\n"
     ]
    },
    {
     "data": {
      "text/plain": [
       "Annual return          3.458664e+00\n",
       "Cumulative returns     1.667087e+17\n",
       "Annual volatility      4.602403e-01\n",
       "Sharpe ratio           3.488124e+00\n",
       "Calmar ratio           3.509487e+00\n",
       "Stability              9.205367e-01\n",
       "Max drawdown          -9.855182e-01\n",
       "Omega ratio            1.938629e+00\n",
       "Sortino ratio          5.614200e+00\n",
       "Skew                  -3.188247e-01\n",
       "Kurtosis               2.215519e+00\n",
       "Tail ratio             1.201124e+00\n",
       "Daily value at risk   -5.161429e-02\n",
       "dtype: float64"
      ]
     },
     "execution_count": 8,
     "metadata": {},
     "output_type": "execute_result"
    }
   ],
   "source": [
    "# Sharpe Ratio -- use pyfolio\n",
    "import pyfolio as pf\n",
    "perf_func = pf.timeseries.perf_stats\n",
    "perf_func(data['strategy_returns'])\n",
    "# (data.returns.mean() / data.returns.std()) * np.sqrt(252)"
   ]
  },
  {
   "cell_type": "code",
   "execution_count": 9,
   "metadata": {},
   "outputs": [
    {
     "name": "stdout",
     "output_type": "stream",
     "text": [
      "n_sim: 15\n",
      "n_paths: 5\n"
     ]
    }
   ],
   "source": [
    "def cpcv_generator(t_span, n, k, verbose=True):\n",
    "    # split data into N groups, with N << T\n",
    "    # this will assign each index position to a group position\n",
    "    group_num = np.arange(t_span) // (t_span // n)\n",
    "    group_num[group_num == n] = n-1\n",
    "    \n",
    "    # generate the combinations \n",
    "    test_groups = np.array(list(itt.combinations(np.arange(n), k))).reshape(-1, k)\n",
    "    C_nk = len(test_groups)\n",
    "    n_paths = C_nk * k // n \n",
    "    \n",
    "    if verbose:\n",
    "        print('n_sim:', C_nk)\n",
    "        print('n_paths:', n_paths)\n",
    "    \n",
    "    # is_test is a T x C(n, k) array where each column is a logical array \n",
    "    # indicating which observation in in the test set\n",
    "    is_test_group = np.full((n, C_nk), fill_value=False)\n",
    "    is_test = np.full((t_span, C_nk), fill_value=False)\n",
    "    \n",
    "    # assign test folds for each of the C(n, k) simulations\n",
    "    for k, pair in enumerate(test_groups):\n",
    "        i, j = pair\n",
    "        is_test_group[[i, j], k] = True\n",
    "        \n",
    "        # assigning the test folds\n",
    "        mask = (group_num == i) | (group_num == j)\n",
    "        is_test[mask, k] = True\n",
    "        \n",
    "    # for each path, connect the folds from different simulations to form a backtest path\n",
    "    # the fold coordinates are: the fold number, and the simulation index e.g. simulation 0, fold 0 etc\n",
    "    path_folds = np.full((n, n_paths), fill_value=np.nan)\n",
    "    \n",
    "    for i in range(n_paths):\n",
    "        for j in range(n):\n",
    "            s_idx = is_test_group[j, :].argmax().astype(int)\n",
    "            path_folds[j, i] = s_idx\n",
    "            is_test_group[j, s_idx] = False\n",
    "            \n",
    "    \n",
    "    # finally, for each path we indicate which simulation we're building the path from and the time indices\n",
    "    paths = np.full((t_span, n_paths), fill_value= np.nan)\n",
    "    \n",
    "    for p in range(n_paths):\n",
    "        for i in range(n):\n",
    "            mask = (group_num == i)\n",
    "            paths[mask, p] = int(path_folds[i, p])\n",
    "    # paths = paths_# .astype(int)\n",
    "\n",
    "    return (is_test, paths, path_folds)    \n",
    "\n",
    "# rule of thumb for generating backtest paths\n",
    "num_ticks = 100\n",
    "num_paths = 5\n",
    "num_groups_test = 2\n",
    "num_groups = num_paths + 1\n",
    "\n",
    "is_test, paths, path_folds = cpcv_generator(num_ticks, num_groups, num_groups_test)"
   ]
  },
  {
   "cell_type": "code",
   "execution_count": 10,
   "metadata": {},
   "outputs": [
    {
     "data": {
      "text/plain": [
       "array([[ 0.,  1.,  2.,  3.,  4.],\n",
       "       [ 0.,  5.,  6.,  7.,  8.],\n",
       "       [ 1.,  5.,  9., 10., 11.],\n",
       "       [ 2.,  6.,  9., 12., 13.],\n",
       "       [ 3.,  7., 10., 12., 14.],\n",
       "       [ 4.,  8., 11., 13., 14.]])"
      ]
     },
     "execution_count": 10,
     "metadata": {},
     "output_type": "execute_result"
    }
   ],
   "source": [
    "# paths\n",
    "path_folds"
   ]
  },
  {
   "cell_type": "code",
   "execution_count": 11,
   "metadata": {},
   "outputs": [],
   "source": [
    "# to read the array on the right goes from top to bottom\n",
    "# backtest path 0 is formed by: fold 0 of simulation 0, fold 1 of simulation 1, \n",
    "test = np.array([[ 0.,  1.,  2.,  3.,  4.],\n",
    "                [ 0.,  5.,  6.,  7.,  8.],\n",
    "                [ 1.,  5.,  9., 10., 11.],\n",
    "                [ 2.,  6.,  9., 12., 13.],\n",
    "                [ 3.,  7., 10., 12., 14.],\n",
    "                [ 4.,  8., 11., 13., 14.]])"
   ]
  },
  {
   "cell_type": "code",
   "execution_count": 12,
   "metadata": {},
   "outputs": [
    {
     "data": {
      "text/plain": [
       "0.018698578908002993"
      ]
     },
     "execution_count": 12,
     "metadata": {},
     "output_type": "execute_result"
    }
   ],
   "source": [
    "assert (path_folds == test).all()\n",
    "# Import compute_Hc package from hurst library\n",
    "from hurst import compute_Hc\n",
    "# lengthy computation\n",
    "data['hurst'] = data['Close'].rolling(window=126).apply(lambda x: compute_Hc(x)[0])\n",
    "data['hurst'].isna().sum() / len(data) # nearly 50% of the data gets thrown away"
   ]
  },
  {
   "cell_type": "code",
   "execution_count": 13,
   "metadata": {},
   "outputs": [
    {
     "data": {
      "text/plain": [
       "<matplotlib.axes._subplots.AxesSubplot at 0x2439c930d60>"
      ]
     },
     "execution_count": 13,
     "metadata": {},
     "output_type": "execute_result"
    },
    {
     "data": {
      "image/png": "[encoded data removed]",
      "text/plain": [
       "<Figure size 432x288 with 1 Axes>"
      ]
     },
     "metadata": {
      "needs_background": "light"
     },
     "output_type": "display_data"
    }
   ],
   "source": [
    "data['hurst'].plot()"
   ]
  },
  {
   "cell_type": "code",
   "execution_count": 14,
   "metadata": {},
   "outputs": [
    {
     "data": {
      "text/plain": [
       "<matplotlib.axes._subplots.AxesSubplot at 0x2439c9ec790>"
      ]
     },
     "execution_count": 14,
     "metadata": {},
     "output_type": "execute_result"
    },
    {
     "data": {
      "image/png": "[encoded data removed]",
      "text/plain": [
       "<Figure size 432x288 with 1 Axes>"
      ]
     },
     "metadata": {
      "needs_background": "light"
     },
     "output_type": "display_data"
    }
   ],
   "source": [
    "# let's create a few more features to implement a quantamental model\n",
    "data['zscore'] = (data.Close - data.Close.rolling(126).mean())/data.Close.rolling(126).std()\n",
    "data['ma21'] = data.Close.rolling(21).mean()\n",
    "data['ma252'] = data.Close.rolling(262).mean()\n",
    "data['vol'] = data.Close.pct_change().rolling(63).std()\n",
    "# data['breakout'] = data.Close.rolling(21).min()\n",
    "data[['ma252', 'ma21']].plot()"
   ]
  },
  {
   "cell_type": "code",
   "execution_count": 15,
   "metadata": {},
   "outputs": [
    {
     "data": {
      "text/plain": [
       "<matplotlib.axes._subplots.AxesSubplot at 0x2439da78640>"
      ]
     },
     "execution_count": 15,
     "metadata": {},
     "output_type": "execute_result"
    },
    {
     "data": {
      "image/png": "[encoded data removed]",
      "text/plain": [
       "<Figure size 432x288 with 1 Axes>"
      ]
     },
     "metadata": {
      "needs_background": "light"
     },
     "output_type": "display_data"
    }
   ],
   "source": [
    "data['zscore'].plot()"
   ]
  },
  {
   "cell_type": "code",
   "execution_count": 16,
   "metadata": {},
   "outputs": [
    {
     "data": {
      "text/plain": [
       "<matplotlib.axes._subplots.AxesSubplot at 0x2439db17670>"
      ]
     },
     "execution_count": 16,
     "metadata": {},
     "output_type": "execute_result"
    },
    {
     "data": {
      "image/png": "[encoded data removed]",
      "text/plain": [
       "<Figure size 432x288 with 1 Axes>"
      ]
     },
     "metadata": {
      "needs_background": "light"
     },
     "output_type": "display_data"
    }
   ],
   "source": [
    "data['vol'].plot()"
   ]
  },
  {
   "cell_type": "code",
   "execution_count": 17,
   "metadata": {},
   "outputs": [
    {
     "data": {
      "text/html": [
       "<div>\n",
       "<style scoped>\n",
       "    .dataframe tbody tr th:only-of-type {\n",
       "        vertical-align: middle;\n",
       "    }\n",
       "\n",
       "    .dataframe tbody tr th {\n",
       "        vertical-align: top;\n",
       "    }\n",
       "\n",
       "    .dataframe thead th {\n",
       "        text-align: right;\n",
       "    }\n",
       "</style>\n",
       "<table border=\"1\" class=\"dataframe\">\n",
       "  <thead>\n",
       "    <tr style=\"text-align: right;\">\n",
       "      <th></th>\n",
       "      <th>zscore</th>\n",
       "      <th>ma252</th>\n",
       "      <th>ma21</th>\n",
       "      <th>vol</th>\n",
       "      <th>hurst</th>\n",
       "    </tr>\n",
       "  </thead>\n",
       "  <tbody>\n",
       "    <tr>\n",
       "      <th>zscore</th>\n",
       "      <td>1.000000</td>\n",
       "      <td>-0.031342</td>\n",
       "      <td>0.110986</td>\n",
       "      <td>-0.472786</td>\n",
       "      <td>0.214577</td>\n",
       "    </tr>\n",
       "    <tr>\n",
       "      <th>ma252</th>\n",
       "      <td>-0.031342</td>\n",
       "      <td>1.000000</td>\n",
       "      <td>0.985122</td>\n",
       "      <td>-0.133073</td>\n",
       "      <td>-0.125400</td>\n",
       "    </tr>\n",
       "    <tr>\n",
       "      <th>ma21</th>\n",
       "      <td>0.110986</td>\n",
       "      <td>0.985122</td>\n",
       "      <td>1.000000</td>\n",
       "      <td>-0.206961</td>\n",
       "      <td>-0.094924</td>\n",
       "    </tr>\n",
       "    <tr>\n",
       "      <th>vol</th>\n",
       "      <td>-0.472786</td>\n",
       "      <td>-0.133073</td>\n",
       "      <td>-0.206961</td>\n",
       "      <td>1.000000</td>\n",
       "      <td>-0.082712</td>\n",
       "    </tr>\n",
       "    <tr>\n",
       "      <th>hurst</th>\n",
       "      <td>0.214577</td>\n",
       "      <td>-0.125400</td>\n",
       "      <td>-0.094924</td>\n",
       "      <td>-0.082712</td>\n",
       "      <td>1.000000</td>\n",
       "    </tr>\n",
       "  </tbody>\n",
       "</table>\n",
       "</div>"
      ],
      "text/plain": [
       "          zscore     ma252      ma21       vol     hurst\n",
       "zscore  1.000000 -0.031342  0.110986 -0.472786  0.214577\n",
       "ma252  -0.031342  1.000000  0.985122 -0.133073 -0.125400\n",
       "ma21    0.110986  0.985122  1.000000 -0.206961 -0.094924\n",
       "vol    -0.472786 -0.133073 -0.206961  1.000000 -0.082712\n",
       "hurst   0.214577 -0.125400 -0.094924 -0.082712  1.000000"
      ]
     },
     "execution_count": 17,
     "metadata": {},
     "output_type": "execute_result"
    }
   ],
   "source": [
    "# features are correlated but signals are significant\n",
    "feats = ['zscore', 'ma252', 'ma21', 'vol', 'hurst']\n",
    "data[feats].corr()"
   ]
  },
  {
   "cell_type": "code",
   "execution_count": 18,
   "metadata": {},
   "outputs": [
    {
     "data": {
      "text/plain": [
       "Date\n",
       "1993-07-30   1993-08-30\n",
       "1993-08-02   1993-08-31\n",
       "1993-08-03   1993-09-01\n",
       "1993-08-04   1993-09-02\n",
       "1993-08-05   1993-09-03\n",
       "Name: Date, dtype: datetime64[ns]"
      ]
     },
     "execution_count": 18,
     "metadata": {},
     "output_type": "execute_result"
    }
   ],
   "source": [
    "# len(data.dropna())/len(data)\n",
    "\n",
    "# setting up the simulation loop\n",
    "from tqdm.notebook import tqdm\n",
    "from sklearn.tree import DecisionTreeClassifier\n",
    "from sklearn.ensemble import BaggingClassifier\n",
    "\n",
    "# prediction and evalution times\n",
    "# using business days, but the index is not holidays aware -- it can be fixed\n",
    "t1_ = data.index\n",
    "# recall that we are holding our position for 21 days\n",
    "# normally t1 is important is there events such as stop losses, or take profit events\n",
    "t1 = pd.Series(t1_[21:], index=t1_[:-21]) # t1 is both the trade time and the event time\n",
    "t1.head() # notice how the events (mark-to-market) take place 5 days later"
   ]
  },
  {
   "cell_type": "code",
   "execution_count": 19,
   "metadata": {},
   "outputs": [
    {
     "data": {
      "text/plain": [
       "(6685, 16)"
      ]
     },
     "execution_count": 19,
     "metadata": {},
     "output_type": "execute_result"
    }
   ],
   "source": [
    "# AFML, snippet 7.1\n",
    "\n",
    "def purge(t1, test_times): # whatever is not in the train set should be in the test set\n",
    "    train = t1.copy(deep=True) # copy of the index\n",
    "    for start, end in tqdm(test_times.iteritems(), total=len(test_times)):\n",
    "        df_0 = train[(start <= train.index) & (train.index <= end)].index # train starts within test\n",
    "        df_1 = train[(start <= train) & (train <= end)].index\n",
    "        df_2 = train[(train.index <= start) & (end <= train)].index\n",
    "        train = train.drop(df_0.union(df_1).union(df_2))\n",
    "    return train\n",
    "\n",
    "# AFML, snippet 7.2\n",
    "def embargo_(times, pct_embargo):\n",
    "    step = int(times.shape[0] * pct_embargo) # more complicated logic if needed to use a time delta\n",
    "    print('step:', step)\n",
    "    if step == 0:\n",
    "        ans = pd.Series(times, index=test_times)\n",
    "    else:\n",
    "        ans = pd.Series(times[step:].values, index=times[:-step].index)\n",
    "        ans = ans.append(pd.Series(times[-1], index=times[-step:].index))\n",
    "    return ans\n",
    "\n",
    "def embargo(test_times, t1, pct_embargo=0.01): # done before purging\n",
    "    # embargoed t1\n",
    "    t1_embargo = embargo_(t1, pct_embargo)\n",
    "    # test_start, test_end = test_times.index[0], test_times.index[-1]\n",
    "    test_times_embargoed = t1_embargo.loc[test_times.index]\n",
    "    return test_times_embargoed\n",
    "data.shape"
   ]
  },
  {
   "cell_type": "code",
   "execution_count": 20,
   "metadata": {},
   "outputs": [
    {
     "data": {
      "text/plain": [
       "1.0    3468\n",
       "0.0    3196\n",
       "Name: y, dtype: int64"
      ]
     },
     "execution_count": 20,
     "metadata": {},
     "output_type": "execute_result"
    }
   ],
   "source": [
    "# let's create the labels for our algorithm\n",
    "# our strategy previously did a buy or hold -- so our labels are whether those actions were profitable or not\n",
    "# if we hold and the strategy goes up, that's lost money\n",
    "# the idea is to use ML as a risk management tool\n",
    "thold = 0.01\n",
    "returns = data.Close.shift(-21).pct_change(21)\n",
    "signal = data.signal_mh\n",
    "\n",
    "# quantamental approach\n",
    "mask_1 = (returns > thold) & (signal == 1) # good\n",
    "mask_2 = (returns > thold) & (signal == 0) # bad\n",
    "mask_3 = (returns <= thold) & (signal == 1) # bad\n",
    "mask_4 = (returns <= thold) & (signal == 0) # good\n",
    "\n",
    "# assign values\n",
    "data['y'] = np.nan\n",
    "data.loc[mask_1, 'y'] = 1\n",
    "data.loc[mask_2, 'y'] = 0\n",
    "data.loc[mask_3, 'y'] = 0\n",
    "data.loc[mask_4, 'y'] = 1\n",
    "\n",
    "# count labels\n",
    "data['y'].value_counts()"
   ]
  },
  {
   "cell_type": "code",
   "execution_count": 21,
   "metadata": {},
   "outputs": [
    {
     "data": {
      "text/plain": [
       "(6664, 6664)"
      ]
     },
     "execution_count": 21,
     "metadata": {},
     "output_type": "execute_result"
    }
   ],
   "source": [
    "# realign data\n",
    "data = data.loc[t1.index]\n",
    "len(data), len(t1)"
   ]
  },
  {
   "cell_type": "code",
   "execution_count": 22,
   "metadata": {},
   "outputs": [
    {
     "data": {
      "text/plain": [
       "6403"
      ]
     },
     "execution_count": 22,
     "metadata": {},
     "output_type": "execute_result"
    }
   ],
   "source": [
    "data = data.dropna()\n",
    "\n",
    "# realign t1\n",
    "t1 = t1.loc[data.index]\n",
    "len(t1)"
   ]
  },
  {
   "cell_type": "code",
   "execution_count": 23,
   "metadata": {},
   "outputs": [
    {
     "name": "stdout",
     "output_type": "stream",
     "text": [
      "n_sim: 15\n",
      "n_paths: 5\n"
     ]
    }
   ],
   "source": [
    "num_paths = 5\n",
    "num_groups_test = 2\n",
    "num_groups = num_paths + 1 \n",
    "num_ticks = len(data)\n",
    "is_test, paths, _ = cpcv_generator(num_ticks, num_groups, num_groups_test)"
   ]
  },
  {
   "cell_type": "code",
   "execution_count": 33,
   "metadata": {},
   "outputs": [
    {
     "data": {
      "application/vnd.jupyter.widget-view+json": {
       "model_id": "c2f997c912c1421684231b0c91de5a1c",
       "version_major": 2,
       "version_minor": 0
      },
      "text/plain": [
       "HBox(children=(FloatProgress(value=0.0, max=15.0), HTML(value='')))"
      ]
     },
     "metadata": {},
     "output_type": "display_data"
    },
    {
     "name": "stdout",
     "output_type": "stream",
     "text": [
      "step: 64\n",
      "(2134,) <class 'pandas.core.series.Series'>\n",
      "Date\n",
      "1994-08-11   1994-09-12\n",
      "1994-08-12   1994-09-13\n",
      "1994-08-15   1994-09-14\n",
      "1994-08-16   1994-09-15\n",
      "1994-08-17   1994-09-16\n",
      "Name: Date, dtype: datetime64[ns]\n",
      "(6403,) <class 'pandas.core.series.Series'>\n",
      "Date\n",
      "1994-08-11   1994-09-12\n",
      "1994-08-12   1994-09-13\n",
      "1994-08-15   1994-09-14\n",
      "1994-08-16   1994-09-15\n",
      "1994-08-17   1994-09-16\n",
      "Name: Date, dtype: datetime64[ns]\n",
      "\n"
     ]
    }
   ],
   "source": [
    "# define some arrays to store the prediction probabilities\n",
    "pred = np.full(is_test.shape, np.nan)\n",
    "\n",
    "# defining X, y\n",
    "# feats = ['zscore', 'ma21', 'ma252', 'vol', 'hurst']\n",
    "X = data[feats]\n",
    "y = data['y']\n",
    "\n",
    "num_sim = is_test.shape[1] # num of simulations needed to generate all backtest paths\n",
    "for k in tqdm(range(num_sim)):\n",
    "    # get train set|\n",
    "    test_idx = is_test[:, k] \n",
    "    \n",
    "    # convert numerical indices into time stamps\n",
    "    test_times = t1.loc[test_idx]\n",
    "    \n",
    "    # embargo\n",
    "    test_times_embargoed = embargo(test_times, t1, pct_embargo=0.01)\n",
    "    print(test_times.shape, type(test_times))\n",
    "    print(test_times.head())\n",
    "    print(t1.shape, type(t1))\n",
    "    print(t1.head())\n",
    "    break\n",
    "    \n",
    "    print(\"Purging...\")\n",
    "    print(t1.shape, test_times_embargoed.shape)\n",
    "    # purge\n",
    "    train_times = purge(t1, test_times_embargoed)\n",
    "    \n",
    "    # split training / test sets\n",
    "    X_test = X.loc[test_times.index, :]\n",
    "    y_test = y.loc[X_test.index]\n",
    "    \n",
    "    X_train = X.loc[train_times.index, :]\n",
    "    y_train = y.loc[X_train.index]\n",
    "    \n",
    "    # reconstructing the backtest paths\n",
    "    print('training classifier for simulation %s' % k)\n",
    "    np.random.seed(42)\n",
    "    base_est = DecisionTreeClassifier(criterion='entropy', \n",
    "                                      max_features='auto', \n",
    "                                      class_weight='balanced', \n",
    "                                      min_weight_fraction_leaf=0.05)\n",
    "    clf = BaggingClassifier(base_estimator=base_est, n_estimators=50, max_features=.99)\n",
    "    clf.fit(X_train, y_train)\n",
    "    pred_ = clf.predict(X_test)\n",
    "    \n",
    "    # fill the backtesting prediction matrix\n",
    "    pred[test_idx, k] = pred_"
   ]
  },
  {
   "cell_type": "code",
   "execution_count": 25,
   "metadata": {},
   "outputs": [
    {
     "data": {
      "text/html": [
       "<div>\n",
       "<style scoped>\n",
       "    .dataframe tbody tr th:only-of-type {\n",
       "        vertical-align: middle;\n",
       "    }\n",
       "\n",
       "    .dataframe tbody tr th {\n",
       "        vertical-align: top;\n",
       "    }\n",
       "\n",
       "    .dataframe thead th {\n",
       "        text-align: right;\n",
       "    }\n",
       "</style>\n",
       "<table border=\"1\" class=\"dataframe\">\n",
       "  <thead>\n",
       "    <tr style=\"text-align: right;\">\n",
       "      <th></th>\n",
       "      <th>0</th>\n",
       "      <th>1</th>\n",
       "      <th>2</th>\n",
       "      <th>3</th>\n",
       "      <th>4</th>\n",
       "    </tr>\n",
       "  </thead>\n",
       "  <tbody>\n",
       "    <tr>\n",
       "      <th>Annual return</th>\n",
       "      <td>3.707969e+00</td>\n",
       "      <td>3.707969e+00</td>\n",
       "      <td>3.707969e+00</td>\n",
       "      <td>3.707969e+00</td>\n",
       "      <td>3.707969e+00</td>\n",
       "    </tr>\n",
       "    <tr>\n",
       "      <th>Cumulative returns</th>\n",
       "      <td>1.246947e+17</td>\n",
       "      <td>1.246947e+17</td>\n",
       "      <td>1.246947e+17</td>\n",
       "      <td>1.246947e+17</td>\n",
       "      <td>1.246947e+17</td>\n",
       "    </tr>\n",
       "    <tr>\n",
       "      <th>Annual volatility</th>\n",
       "      <td>4.670288e-01</td>\n",
       "      <td>4.670288e-01</td>\n",
       "      <td>4.670288e-01</td>\n",
       "      <td>4.670288e-01</td>\n",
       "      <td>4.670288e-01</td>\n",
       "    </tr>\n",
       "    <tr>\n",
       "      <th>Sharpe ratio</th>\n",
       "      <td>3.561394e+00</td>\n",
       "      <td>3.561394e+00</td>\n",
       "      <td>3.561394e+00</td>\n",
       "      <td>3.561394e+00</td>\n",
       "      <td>3.561394e+00</td>\n",
       "    </tr>\n",
       "    <tr>\n",
       "      <th>Calmar ratio</th>\n",
       "      <td>3.762457e+00</td>\n",
       "      <td>3.762457e+00</td>\n",
       "      <td>3.762457e+00</td>\n",
       "      <td>3.762457e+00</td>\n",
       "      <td>3.762457e+00</td>\n",
       "    </tr>\n",
       "    <tr>\n",
       "      <th>Stability</th>\n",
       "      <td>9.173160e-01</td>\n",
       "      <td>9.173160e-01</td>\n",
       "      <td>9.173160e-01</td>\n",
       "      <td>9.173160e-01</td>\n",
       "      <td>9.173160e-01</td>\n",
       "    </tr>\n",
       "    <tr>\n",
       "      <th>Max drawdown</th>\n",
       "      <td>-9.855182e-01</td>\n",
       "      <td>-9.855182e-01</td>\n",
       "      <td>-9.855182e-01</td>\n",
       "      <td>-9.855182e-01</td>\n",
       "      <td>-9.855182e-01</td>\n",
       "    </tr>\n",
       "    <tr>\n",
       "      <th>Omega ratio</th>\n",
       "      <td>1.954484e+00</td>\n",
       "      <td>1.954484e+00</td>\n",
       "      <td>1.954484e+00</td>\n",
       "      <td>1.954484e+00</td>\n",
       "      <td>1.954484e+00</td>\n",
       "    </tr>\n",
       "    <tr>\n",
       "      <th>Sortino ratio</th>\n",
       "      <td>5.740543e+00</td>\n",
       "      <td>5.740543e+00</td>\n",
       "      <td>5.740543e+00</td>\n",
       "      <td>5.740543e+00</td>\n",
       "      <td>5.740543e+00</td>\n",
       "    </tr>\n",
       "    <tr>\n",
       "      <th>Skew</th>\n",
       "      <td>-3.297245e-01</td>\n",
       "      <td>-3.297245e-01</td>\n",
       "      <td>-3.297245e-01</td>\n",
       "      <td>-3.297245e-01</td>\n",
       "      <td>-3.297245e-01</td>\n",
       "    </tr>\n",
       "    <tr>\n",
       "      <th>Kurtosis</th>\n",
       "      <td>2.115543e+00</td>\n",
       "      <td>2.115543e+00</td>\n",
       "      <td>2.115543e+00</td>\n",
       "      <td>2.115543e+00</td>\n",
       "      <td>2.115543e+00</td>\n",
       "    </tr>\n",
       "    <tr>\n",
       "      <th>Tail ratio</th>\n",
       "      <td>1.206828e+00</td>\n",
       "      <td>1.206828e+00</td>\n",
       "      <td>1.206828e+00</td>\n",
       "      <td>1.206828e+00</td>\n",
       "      <td>1.206828e+00</td>\n",
       "    </tr>\n",
       "    <tr>\n",
       "      <th>Daily value at risk</th>\n",
       "      <td>-5.223522e-02</td>\n",
       "      <td>-5.223522e-02</td>\n",
       "      <td>-5.223522e-02</td>\n",
       "      <td>-5.223522e-02</td>\n",
       "      <td>-5.223522e-02</td>\n",
       "    </tr>\n",
       "  </tbody>\n",
       "</table>\n",
       "</div>"
      ],
      "text/plain": [
       "                                0             1             2             3  \\\n",
       "Annual return        3.707969e+00  3.707969e+00  3.707969e+00  3.707969e+00   \n",
       "Cumulative returns   1.246947e+17  1.246947e+17  1.246947e+17  1.246947e+17   \n",
       "Annual volatility    4.670288e-01  4.670288e-01  4.670288e-01  4.670288e-01   \n",
       "Sharpe ratio         3.561394e+00  3.561394e+00  3.561394e+00  3.561394e+00   \n",
       "Calmar ratio         3.762457e+00  3.762457e+00  3.762457e+00  3.762457e+00   \n",
       "Stability            9.173160e-01  9.173160e-01  9.173160e-01  9.173160e-01   \n",
       "Max drawdown        -9.855182e-01 -9.855182e-01 -9.855182e-01 -9.855182e-01   \n",
       "Omega ratio          1.954484e+00  1.954484e+00  1.954484e+00  1.954484e+00   \n",
       "Sortino ratio        5.740543e+00  5.740543e+00  5.740543e+00  5.740543e+00   \n",
       "Skew                -3.297245e-01 -3.297245e-01 -3.297245e-01 -3.297245e-01   \n",
       "Kurtosis             2.115543e+00  2.115543e+00  2.115543e+00  2.115543e+00   \n",
       "Tail ratio           1.206828e+00  1.206828e+00  1.206828e+00  1.206828e+00   \n",
       "Daily value at risk -5.223522e-02 -5.223522e-02 -5.223522e-02 -5.223522e-02   \n",
       "\n",
       "                                4  \n",
       "Annual return        3.707969e+00  \n",
       "Cumulative returns   1.246947e+17  \n",
       "Annual volatility    4.670288e-01  \n",
       "Sharpe ratio         3.561394e+00  \n",
       "Calmar ratio         3.762457e+00  \n",
       "Stability            9.173160e-01  \n",
       "Max drawdown        -9.855182e-01  \n",
       "Omega ratio          1.954484e+00  \n",
       "Sortino ratio        5.740543e+00  \n",
       "Skew                -3.297245e-01  \n",
       "Kurtosis             2.115543e+00  \n",
       "Tail ratio           1.206828e+00  \n",
       "Daily value at risk -5.223522e-02  "
      ]
     },
     "execution_count": 25,
     "metadata": {},
     "output_type": "execute_result"
    }
   ],
   "source": [
    "backtest_paths = np.full((X.shape[0], paths.shape[1]), np.nan)\n",
    "old_signal = data['signal_mh'].loc[X.index]\n",
    "ret = data['returns'].loc[X.index]\n",
    "\n",
    "for p in range(paths.shape[1]):\n",
    "    for t, k in enumerate(paths[:, p]):\n",
    "        backtest_paths[t, p] = ( bool(pred[t, int(k)]) &  bool(old_signal[t]) ) * ret[t]\n",
    "        \n",
    "import pyfolio as pf\n",
    "perf_func = pf.timeseries.perf_stats\n",
    "\n",
    "perf_list = []\n",
    "for s in range(paths.shape[1]):\n",
    "    perf_table = perf_func(backtest_paths[:, s])\n",
    "    perf_list.append(perf_table)\n",
    "    \n",
    "perf_paths = pd.concat(perf_list, axis=1)\n",
    "perf_paths"
   ]
  },
  {
   "cell_type": "code",
   "execution_count": 26,
   "metadata": {},
   "outputs": [
    {
     "data": {
      "text/plain": [
       "3.561393603709024"
      ]
     },
     "execution_count": 26,
     "metadata": {},
     "output_type": "execute_result"
    }
   ],
   "source": [
    "perf_paths.loc['Sharpe ratio', :].mean()"
   ]
  },
  {
   "cell_type": "code",
   "execution_count": 27,
   "metadata": {},
   "outputs": [
    {
     "data": {
      "text/plain": [
       "0.0"
      ]
     },
     "execution_count": 27,
     "metadata": {},
     "output_type": "execute_result"
    }
   ],
   "source": [
    "perf_paths.loc['Sharpe ratio', :].std()"
   ]
  },
  {
   "cell_type": "code",
   "execution_count": 28,
   "metadata": {},
   "outputs": [
    {
     "data": {
      "text/plain": [
       "<matplotlib.axes._subplots.AxesSubplot at 0x2439ddf7e80>"
      ]
     },
     "execution_count": 28,
     "metadata": {},
     "output_type": "execute_result"
    },
    {
     "data": {
      "image/png": "[encoded data removed]",
      "text/plain": [
       "<Figure size 432x288 with 1 Axes>"
      ]
     },
     "metadata": {
      "needs_background": "light"
     },
     "output_type": "display_data"
    }
   ],
   "source": [
    "perf_paths.loc['Sharpe ratio', :].hist()"
   ]
  },
  {
   "cell_type": "code",
   "execution_count": 29,
   "metadata": {},
   "outputs": [
    {
     "data": {
      "text/plain": [
       "-0.985518188564454"
      ]
     },
     "execution_count": 29,
     "metadata": {},
     "output_type": "execute_result"
    }
   ],
   "source": [
    "perf_paths.loc['Max drawdown', :].mean() # slightly better than the base strategy -- but still very risky"
   ]
  },
  {
   "cell_type": "code",
   "execution_count": 30,
   "metadata": {},
   "outputs": [
    {
     "data": {
      "text/plain": [
       "0.0"
      ]
     },
     "execution_count": 30,
     "metadata": {},
     "output_type": "execute_result"
    }
   ],
   "source": [
    "perf_paths.loc['Max drawdown', :].std()"
   ]
  },
  {
   "cell_type": "code",
   "execution_count": 31,
   "metadata": {},
   "outputs": [
    {
     "data": {
      "text/plain": [
       "<matplotlib.axes._subplots.AxesSubplot at 0x2439de84820>"
      ]
     },
     "execution_count": 31,
     "metadata": {},
     "output_type": "execute_result"
    },
    {
     "data": {
      "image/png": "[encoded data removed]",
      "text/plain": [
       "<Figure size 432x288 with 1 Axes>"
      ]
     },
     "metadata": {
      "needs_background": "light"
     },
     "output_type": "display_data"
    }
   ],
   "source": [
    "perf_paths.loc['Max drawdown', :].hist()"
   ]
  }
 ],
 "metadata": {
  "kernelspec": {
   "display_name": "Python 3",
   "language": "python",
   "name": "python3"
  },
  "language_info": {
   "codemirror_mode": {
    "name": "ipython",
    "version": 3
   },
   "file_extension": ".py",
   "mimetype": "text/x-python",
   "name": "python",
   "nbconvert_exporter": "python",
   "pygments_lexer": "ipython3",
   "version": "3.8.3"
  }
 },
 "nbformat": 4,
 "nbformat_minor": 4
}
